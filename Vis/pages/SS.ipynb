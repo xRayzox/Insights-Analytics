{
 "cells": [
  {
   "cell_type": "code",
   "execution_count": 8,
   "metadata": {},
   "outputs": [
    {
     "name": "stdout",
     "output_type": "stream",
     "text": [
      "Defaulting to user installation because normal site-packages is not writeableNote: you may need to restart the kernel to use updated packages.\n",
      "\n"
     ]
    },
    {
     "name": "stderr",
     "output_type": "stream",
     "text": [
      "ERROR: Could not find a version that satisfies the requirement main (from versions: none)\n",
      "\n",
      "[notice] A new release of pip is available: 24.2 -> 24.3.1\n",
      "[notice] To update, run: C:\\Users\\KunSha\\AppData\\Local\\Microsoft\\WindowsApps\\PythonSoftwareFoundation.Python.3.12_qbz5n2kfra8p0\\python.exe -m pip install --upgrade pip\n",
      "ERROR: No matching distribution found for main\n"
     ]
    }
   ],
   "source": [
    "pip install --upgrade main"
   ]
  },
  {
   "cell_type": "code",
   "execution_count": 9,
   "metadata": {},
   "outputs": [
    {
     "ename": "ModuleNotFoundError",
     "evalue": "No module named 'main'",
     "output_type": "error",
     "traceback": [
      "\u001b[1;31m---------------------------------------------------------------------------\u001b[0m",
      "\u001b[1;31mModuleNotFoundError\u001b[0m                       Traceback (most recent call last)",
      "Cell \u001b[1;32mIn[9], line 8\u001b[0m\n\u001b[0;32m      6\u001b[0m \u001b[38;5;28;01mfrom\u001b[39;00m \u001b[38;5;21;01mselenium\u001b[39;00m \u001b[38;5;28;01mimport\u001b[39;00m webdriver\n\u001b[0;32m      7\u001b[0m \u001b[38;5;28;01mimport\u001b[39;00m \u001b[38;5;21;01mseaborn\u001b[39;00m \u001b[38;5;28;01mas\u001b[39;00m \u001b[38;5;21;01msns\u001b[39;00m\n\u001b[1;32m----> 8\u001b[0m \u001b[38;5;28;01mimport\u001b[39;00m \u001b[38;5;21;01mmain\u001b[39;00m\n\u001b[0;32m      9\u001b[0m \u001b[38;5;28;01mimport\u001b[39;00m \u001b[38;5;21;01mchromedriver_autoinstaller\u001b[39;00m\n\u001b[0;32m     10\u001b[0m \u001b[38;5;28;01mfrom\u001b[39;00m \u001b[38;5;21;01mdatetime\u001b[39;00m \u001b[38;5;28;01mimport\u001b[39;00m datetime\n",
      "\u001b[1;31mModuleNotFoundError\u001b[0m: No module named 'main'"
     ]
    }
   ],
   "source": [
    "# General Packages\n",
    "import pandas as pd\n",
    "import numpy as np\n",
    "import matplotlib.pyplot as plt\n",
    "import numpy as np\n",
    "from selenium import webdriver\n",
    "import seaborn as sns\n",
    "import main\n",
    "import chromedriver_autoinstaller\n",
    "from datetime import datetime\n",
    "import matplotlib.pyplot as plt\n",
    "from mplsoccer import Pitch, VerticalPitch\n",
    "from matplotlib.colors import to_rgba\n",
    "import matplotlib as mpl\n",
    "from collections import defaultdict\n",
    "import pickle\n",
    "from PIL import Image\n",
    "import urllib\n",
    "from matplotlib.patches import FancyBboxPatch"
   ]
  },
  {
   "cell_type": "code",
   "execution_count": 3,
   "metadata": {},
   "outputs": [],
   "source": [
    "chromedriver_autoinstaller.install()\n",
    "\n",
    "import warnings\n",
    "warnings.filterwarnings('ignore')"
   ]
  },
  {
   "cell_type": "code",
   "execution_count": 11,
   "metadata": {},
   "outputs": [
    {
     "ename": "NameError",
     "evalue": "name 'main' is not defined",
     "output_type": "error",
     "traceback": [
      "\u001b[1;31m---------------------------------------------------------------------------\u001b[0m",
      "\u001b[1;31mNameError\u001b[0m                                 Traceback (most recent call last)",
      "Cell \u001b[1;32mIn[11], line 6\u001b[0m\n\u001b[0;32m      4\u001b[0m \u001b[38;5;66;03m# whoscored match centre url of the required match (Example: Barcelona vs Sevilla)\u001b[39;00m\n\u001b[0;32m      5\u001b[0m url \u001b[38;5;241m=\u001b[39m \u001b[38;5;124m\"\u001b[39m\u001b[38;5;124mhttps://www.whoscored.com/Matches/1640954/Live/England-Premier-League-2022-2023-Wolverhampton-Bournemouth\u001b[39m\u001b[38;5;124m\"\u001b[39m\n\u001b[1;32m----> 6\u001b[0m match_data \u001b[38;5;241m=\u001b[39m \u001b[43mmain\u001b[49m\u001b[38;5;241m.\u001b[39mgetMatchData(driver, url, close_window\u001b[38;5;241m=\u001b[39m\u001b[38;5;28;01mTrue\u001b[39;00m)\n\u001b[0;32m      8\u001b[0m \u001b[38;5;66;03m# Match dataframe containing info about the match\u001b[39;00m\n\u001b[0;32m      9\u001b[0m matches_df \u001b[38;5;241m=\u001b[39m main\u001b[38;5;241m.\u001b[39mcreateMatchesDF(match_data)\n",
      "\u001b[1;31mNameError\u001b[0m: name 'main' is not defined"
     ]
    }
   ],
   "source": [
    "if __name__ == \"__main__\":\n",
    "    driver = webdriver.Chrome()\n",
    "    \n",
    "# whoscored match centre url of the required match (Example: Barcelona vs Sevilla)\n",
    "url = \"https://www.whoscored.com/Matches/1640954/Live/England-Premier-League-2022-2023-Wolverhampton-Bournemouth\"\n",
    "match_data = main.getMatchData(driver, url, close_window=True)\n",
    "\n",
    "# Match dataframe containing info about the match\n",
    "matches_df = main.createMatchesDF(match_data)\n",
    "\n",
    "# Events dataframe      \n",
    "events_df = main.createEventsDF(match_data)\n",
    "\n",
    "# match Id\n",
    "matchId = match_data['matchId']\n",
    "\n",
    "# Information about respective teams as dictionary\n",
    "home_data = matches_df['home'][matchId]\n",
    "away_data = matches_df['away'][matchId]\n",
    "score = matches_df['score'][matchId]\n",
    "score = ' ' + score.replace(':', '-') + ' '\n",
    "\n",
    "home_name = home_data['name']\n",
    "away_name = away_data['name']\n",
    "date = match_data['startDate'].split('T')[0]\n",
    "date_ = datetime.strptime(date, '%Y-%m-%d').date()\n",
    "date_str = date_.strftime('%d/%m/%Y')"
   ]
  },
  {
   "cell_type": "code",
   "execution_count": 12,
   "metadata": {},
   "outputs": [
    {
     "name": "stdout",
     "output_type": "stream",
     "text": [
      "Defaulting to user installation because normal site-packages is not writeableNote: you may need to restart the kernel to use updated packages.\n",
      "\n",
      "Collecting whoscraped\n",
      "  Downloading whoscraped-0.2.0-py3-none-any.whl.metadata (4.4 kB)\n",
      "Requirement already satisfied: selenium in c:\\users\\kunsha\\appdata\\local\\packages\\pythonsoftwarefoundation.python.3.12_qbz5n2kfra8p0\\localcache\\local-packages\\python312\\site-packages (from whoscraped) (4.22.0)\n",
      "Requirement already satisfied: beautifulsoup4 in c:\\users\\kunsha\\appdata\\local\\packages\\pythonsoftwarefoundation.python.3.12_qbz5n2kfra8p0\\localcache\\local-packages\\python312\\site-packages (from whoscraped) (4.12.3)\n",
      "Requirement already satisfied: pandas in c:\\users\\kunsha\\appdata\\local\\packages\\pythonsoftwarefoundation.python.3.12_qbz5n2kfra8p0\\localcache\\local-packages\\python312\\site-packages (from whoscraped) (2.2.2)\n",
      "Requirement already satisfied: soupsieve>1.2 in c:\\users\\kunsha\\appdata\\local\\packages\\pythonsoftwarefoundation.python.3.12_qbz5n2kfra8p0\\localcache\\local-packages\\python312\\site-packages (from beautifulsoup4->whoscraped) (2.5)\n",
      "Requirement already satisfied: numpy>=1.26.0 in c:\\users\\kunsha\\appdata\\local\\packages\\pythonsoftwarefoundation.python.3.12_qbz5n2kfra8p0\\localcache\\local-packages\\python312\\site-packages (from pandas->whoscraped) (1.26.4)\n",
      "Requirement already satisfied: python-dateutil>=2.8.2 in c:\\users\\kunsha\\appdata\\local\\packages\\pythonsoftwarefoundation.python.3.12_qbz5n2kfra8p0\\localcache\\local-packages\\python312\\site-packages (from pandas->whoscraped) (2.9.0.post0)\n",
      "Requirement already satisfied: pytz>=2020.1 in c:\\users\\kunsha\\appdata\\local\\packages\\pythonsoftwarefoundation.python.3.12_qbz5n2kfra8p0\\localcache\\local-packages\\python312\\site-packages (from pandas->whoscraped) (2024.1)\n",
      "Requirement already satisfied: tzdata>=2022.7 in c:\\users\\kunsha\\appdata\\local\\packages\\pythonsoftwarefoundation.python.3.12_qbz5n2kfra8p0\\localcache\\local-packages\\python312\\site-packages (from pandas->whoscraped) (2024.1)\n",
      "Requirement already satisfied: urllib3<3,>=1.26 in c:\\users\\kunsha\\appdata\\local\\packages\\pythonsoftwarefoundation.python.3.12_qbz5n2kfra8p0\\localcache\\local-packages\\python312\\site-packages (from urllib3[socks]<3,>=1.26->selenium->whoscraped) (2.2.1)\n",
      "Requirement already satisfied: trio~=0.17 in c:\\users\\kunsha\\appdata\\local\\packages\\pythonsoftwarefoundation.python.3.12_qbz5n2kfra8p0\\localcache\\local-packages\\python312\\site-packages (from selenium->whoscraped) (0.26.0)\n",
      "Requirement already satisfied: trio-websocket~=0.9 in c:\\users\\kunsha\\appdata\\local\\packages\\pythonsoftwarefoundation.python.3.12_qbz5n2kfra8p0\\localcache\\local-packages\\python312\\site-packages (from selenium->whoscraped) (0.11.1)\n",
      "Requirement already satisfied: certifi>=2021.10.8 in c:\\users\\kunsha\\appdata\\local\\packages\\pythonsoftwarefoundation.python.3.12_qbz5n2kfra8p0\\localcache\\local-packages\\python312\\site-packages (from selenium->whoscraped) (2024.2.2)\n",
      "Requirement already satisfied: typing_extensions>=4.9.0 in c:\\users\\kunsha\\appdata\\local\\packages\\pythonsoftwarefoundation.python.3.12_qbz5n2kfra8p0\\localcache\\local-packages\\python312\\site-packages (from selenium->whoscraped) (4.11.0)\n",
      "Requirement already satisfied: websocket-client>=1.8.0 in c:\\users\\kunsha\\appdata\\local\\packages\\pythonsoftwarefoundation.python.3.12_qbz5n2kfra8p0\\localcache\\local-packages\\python312\\site-packages (from selenium->whoscraped) (1.8.0)\n",
      "Requirement already satisfied: six>=1.5 in c:\\users\\kunsha\\appdata\\local\\packages\\pythonsoftwarefoundation.python.3.12_qbz5n2kfra8p0\\localcache\\local-packages\\python312\\site-packages (from python-dateutil>=2.8.2->pandas->whoscraped) (1.16.0)\n",
      "Requirement already satisfied: attrs>=23.2.0 in c:\\users\\kunsha\\appdata\\local\\packages\\pythonsoftwarefoundation.python.3.12_qbz5n2kfra8p0\\localcache\\local-packages\\python312\\site-packages (from trio~=0.17->selenium->whoscraped) (23.2.0)\n",
      "Requirement already satisfied: sortedcontainers in c:\\users\\kunsha\\appdata\\local\\packages\\pythonsoftwarefoundation.python.3.12_qbz5n2kfra8p0\\localcache\\local-packages\\python312\\site-packages (from trio~=0.17->selenium->whoscraped) (2.4.0)\n",
      "Requirement already satisfied: idna in c:\\users\\kunsha\\appdata\\local\\packages\\pythonsoftwarefoundation.python.3.12_qbz5n2kfra8p0\\localcache\\local-packages\\python312\\site-packages (from trio~=0.17->selenium->whoscraped) (3.7)\n",
      "Requirement already satisfied: outcome in c:\\users\\kunsha\\appdata\\local\\packages\\pythonsoftwarefoundation.python.3.12_qbz5n2kfra8p0\\localcache\\local-packages\\python312\\site-packages (from trio~=0.17->selenium->whoscraped) (1.3.0.post0)\n",
      "Requirement already satisfied: sniffio>=1.3.0 in c:\\users\\kunsha\\appdata\\local\\packages\\pythonsoftwarefoundation.python.3.12_qbz5n2kfra8p0\\localcache\\local-packages\\python312\\site-packages (from trio~=0.17->selenium->whoscraped) (1.3.1)\n",
      "Requirement already satisfied: cffi>=1.14 in c:\\users\\kunsha\\appdata\\local\\packages\\pythonsoftwarefoundation.python.3.12_qbz5n2kfra8p0\\localcache\\local-packages\\python312\\site-packages (from trio~=0.17->selenium->whoscraped) (1.16.0)\n",
      "Requirement already satisfied: wsproto>=0.14 in c:\\users\\kunsha\\appdata\\local\\packages\\pythonsoftwarefoundation.python.3.12_qbz5n2kfra8p0\\localcache\\local-packages\\python312\\site-packages (from trio-websocket~=0.9->selenium->whoscraped) (1.2.0)\n",
      "Requirement already satisfied: pysocks!=1.5.7,<2.0,>=1.5.6 in c:\\users\\kunsha\\appdata\\local\\packages\\pythonsoftwarefoundation.python.3.12_qbz5n2kfra8p0\\localcache\\local-packages\\python312\\site-packages (from urllib3[socks]<3,>=1.26->selenium->whoscraped) (1.7.1)\n",
      "Requirement already satisfied: pycparser in c:\\users\\kunsha\\appdata\\local\\packages\\pythonsoftwarefoundation.python.3.12_qbz5n2kfra8p0\\localcache\\local-packages\\python312\\site-packages (from cffi>=1.14->trio~=0.17->selenium->whoscraped) (2.22)\n",
      "Requirement already satisfied: h11<1,>=0.9.0 in c:\\users\\kunsha\\appdata\\local\\packages\\pythonsoftwarefoundation.python.3.12_qbz5n2kfra8p0\\localcache\\local-packages\\python312\\site-packages (from wsproto>=0.14->trio-websocket~=0.9->selenium->whoscraped) (0.14.0)\n",
      "Downloading whoscraped-0.2.0-py3-none-any.whl (5.1 kB)\n",
      "Installing collected packages: whoscraped\n",
      "Successfully installed whoscraped-0.2.0\n"
     ]
    }
   ],
   "source": [
    "pip install whoscraped"
   ]
  },
  {
   "cell_type": "code",
   "execution_count": null,
   "metadata": {},
   "outputs": [],
   "source": [
    "import whoscraped\n",
    "\n",
    "match_url = \"https://www.whoscored.com/Matches/1821249/Live/England-Premier-League-2024-2025-Bournemouth-Manchester-City\"\n",
    "match_data = whoscraped.get_match_data(match_url)"
   ]
  }
 ],
 "metadata": {
  "kernelspec": {
   "display_name": "Python 3",
   "language": "python",
   "name": "python3"
  },
  "language_info": {
   "codemirror_mode": {
    "name": "ipython",
    "version": 3
   },
   "file_extension": ".py",
   "mimetype": "text/x-python",
   "name": "python",
   "nbconvert_exporter": "python",
   "pygments_lexer": "ipython3",
   "version": "3.12.4"
  }
 },
 "nbformat": 4,
 "nbformat_minor": 2
}

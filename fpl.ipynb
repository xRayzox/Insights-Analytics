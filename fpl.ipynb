{
 "cells": [
  {
   "cell_type": "code",
   "execution_count": 154,
   "metadata": {},
   "outputs": [],
   "source": [
    "import streamlit as st\n",
    "import pandas as pd\n",
    "import seaborn as sns\n",
    "import matplotlib.pyplot as plt\n",
    "import pytz\n",
    "import datetime as datetime\n",
    "import os\n",
    "import sys\n",
    "import numpy as np\n",
    "import plotly.express as px\n"
   ]
  },
  {
   "cell_type": "code",
   "execution_count": 155,
   "metadata": {},
   "outputs": [],
   "source": [
    "sys.path.append(os.path.abspath(os.path.join(os.getcwd(), 'FPL')))\n"
   ]
  },
  {
   "cell_type": "code",
   "execution_count": 156,
   "metadata": {},
   "outputs": [],
   "source": [
    "from FPL.fpl_api_collection import (\n",
    "    get_bootstrap_data,\n",
    "    get_current_gw,\n",
    "    get_fixt_dfs,\n",
    "    get_league_table,\n",
    "    get_fixture_dfs,\n",
    "    get_fixture_data\n",
    ")\n",
    "from FPL.fpl_utils import (\n",
    "    define_sidebar,\n",
    "    get_annot_size,\n",
    "    map_float_to_color,\n",
    "    get_text_color_from_hash,\n",
    "    get_rotation\n",
    ")\n",
    "from FPL.fpl_params import (\n",
    "    TIMEZONES_BY_CONTINENT,\n",
    "    AUTHOR_CONTINENT,\n",
    "    AUTHOR_CITY\n",
    ")"
   ]
  },
  {
   "cell_type": "code",
   "execution_count": 157,
   "metadata": {},
   "outputs": [],
   "source": [
    "team_fdr_df, team_fixt_df, team_ga_df, team_gf_df = get_fixt_dfs()\n",
    "\n",
    "events_df = pd.DataFrame(get_bootstrap_data()['events'])\n",
    "\n",
    "gw_min = min(events_df['id'])\n",
    "gw_max = max(events_df['id'])\n",
    "\n",
    "ct_gw = get_current_gw()"
   ]
  },
  {
   "cell_type": "code",
   "execution_count": 158,
   "metadata": {},
   "outputs": [],
   "source": [
    "fixt = team_fixt_df.reset_index()\n",
    "drf = team_fdr_df.reset_index()\n",
    "ga = team_ga_df.reset_index()\n",
    "gf = team_gf_df.reset_index()\n",
    "\n",
    "# Rename the first column to 'Team'\n",
    "fixt.rename(columns={0: 'Team'}, inplace=True)\n",
    "drf.rename(columns={0: 'Team'}, inplace=True)\n",
    "ga.rename(columns={0: 'Team'}, inplace=True)\n",
    "gf.rename(columns={0: 'Team'}, inplace=True)"
   ]
  },
  {
   "cell_type": "code",
   "execution_count": 159,
   "metadata": {},
   "outputs": [
    {
     "name": "stderr",
     "output_type": "stream",
     "text": [
      "2024-10-17 18:01:12.088 Thread 'MainThread': missing ScriptRunContext! This warning can be ignored when running in bare mode.\n",
      "2024-10-17 18:01:12.089 Thread 'MainThread': missing ScriptRunContext! This warning can be ignored when running in bare mode.\n",
      "2024-10-17 18:01:12.090 Thread 'MainThread': missing ScriptRunContext! This warning can be ignored when running in bare mode.\n",
      "2024-10-17 18:01:12.091 Thread 'MainThread': missing ScriptRunContext! This warning can be ignored when running in bare mode.\n",
      "2024-10-17 18:01:12.099 Thread 'MainThread': missing ScriptRunContext! This warning can be ignored when running in bare mode.\n",
      "2024-10-17 18:01:12.100 Thread 'MainThread': missing ScriptRunContext! This warning can be ignored when running in bare mode.\n"
     ]
    },
    {
     "data": {
      "text/plain": [
       "DeltaGenerator()"
      ]
     },
     "execution_count": 159,
     "metadata": {},
     "output_type": "execute_result"
    }
   ],
   "source": [
    "merged_df = pd.merge(fixt, drf, on=\"Team\", suffixes=('_Fixture', '_FDR'))\n",
    "\n",
    "# Convert to a format suitable for display\n",
    "merged_display_df = merged_df.copy()\n",
    "merged_display_df.columns = [\"Team\"] + [f\"{gw}_Fixture\" for gw in merged_display_df.columns[1:4]] + [f\"{gw}_FDR\" for gw in merged_display_df.columns[4:]]\n",
    "\n",
    "# Streamlit app\n",
    "st.title(\"FPL Fixture and Difficulty Rating Analysis\")\n",
    "\n",
    "# Display the merged DataFrame\n",
    "st.markdown(\"### Fixture Details with Fixture Difficulty Ratings\")\n",
    "st.dataframe(merged_display_df)"
   ]
  },
  {
   "cell_type": "code",
   "execution_count": 162,
   "metadata": {},
   "outputs": [],
   "source": [
    "saaaa=get_fixture_data()"
   ]
  },
  {
   "cell_type": "code",
   "execution_count": 164,
   "metadata": {},
   "outputs": [
    {
     "ename": "AttributeError",
     "evalue": "'list' object has no attribute 'text'",
     "output_type": "error",
     "traceback": [
      "\u001b[1;31m---------------------------------------------------------------------------\u001b[0m",
      "\u001b[1;31mAttributeError\u001b[0m                            Traceback (most recent call last)",
      "Cell \u001b[1;32mIn[164], line 2\u001b[0m\n\u001b[0;32m      1\u001b[0m \u001b[38;5;28;01mimport\u001b[39;00m \u001b[38;5;21;01mjson\u001b[39;00m\n\u001b[1;32m----> 2\u001b[0m data \u001b[38;5;241m=\u001b[39m json\u001b[38;5;241m.\u001b[39mloads(\u001b[43msaaaa\u001b[49m\u001b[38;5;241;43m.\u001b[39;49m\u001b[43mtext\u001b[49m)\n\u001b[0;32m      3\u001b[0m fixtures_df \u001b[38;5;241m=\u001b[39m pd\u001b[38;5;241m.\u001b[39mDataFrame(data)\n\u001b[0;32m      5\u001b[0m fixtures_df\u001b[38;5;241m.\u001b[39mdrop(columns\u001b[38;5;241m=\u001b[39m\u001b[38;5;124m'\u001b[39m\u001b[38;5;124mstats\u001b[39m\u001b[38;5;124m'\u001b[39m, inplace\u001b[38;5;241m=\u001b[39m\u001b[38;5;28;01mTrue\u001b[39;00m)\n",
      "\u001b[1;31mAttributeError\u001b[0m: 'list' object has no attribute 'text'"
     ]
    }
   ],
   "source": [
    "import json\n",
    "data = json.loads(saaaa)\n",
    "fixtures_df = pd.DataFrame(data)\n",
    "\n",
    "fixtures_df.drop(columns='stats', inplace=True)\n"
   ]
  }
 ],
 "metadata": {
  "kernelspec": {
   "display_name": "Python 3",
   "language": "python",
   "name": "python3"
  },
  "language_info": {
   "codemirror_mode": {
    "name": "ipython",
    "version": 3
   },
   "file_extension": ".py",
   "mimetype": "text/x-python",
   "name": "python",
   "nbconvert_exporter": "python",
   "pygments_lexer": "ipython3",
   "version": "3.12.4"
  }
 },
 "nbformat": 4,
 "nbformat_minor": 2
}

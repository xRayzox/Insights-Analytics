{
 "cells": [
  {
   "cell_type": "code",
   "execution_count": 131,
   "metadata": {},
   "outputs": [],
   "source": [
    "import streamlit as st\n",
    "import pandas as pd\n",
    "import seaborn as sns\n",
    "import matplotlib.pyplot as plt\n",
    "import pytz\n",
    "import datetime as datetime\n",
    "import os\n",
    "import sys\n",
    "import numpy as np\n",
    "import plotly.express as px\n"
   ]
  },
  {
   "cell_type": "code",
   "execution_count": 132,
   "metadata": {},
   "outputs": [],
   "source": [
    "sys.path.append(os.path.abspath(os.path.join(os.getcwd(), 'FPL')))\n"
   ]
  },
  {
   "cell_type": "code",
   "execution_count": 133,
   "metadata": {},
   "outputs": [],
   "source": [
    "from FPL.fpl_api_collection import (\n",
    "    get_bootstrap_data,\n",
    "    get_current_gw,\n",
    "    get_fixt_dfs,\n",
    "    get_league_table\n",
    ")\n",
    "from FPL.fpl_utils import (\n",
    "    define_sidebar,\n",
    "    get_annot_size,\n",
    "    map_float_to_color,\n",
    "    get_text_color_from_hash,\n",
    "    get_rotation\n",
    ")\n",
    "from FPL.fpl_params import (\n",
    "    TIMEZONES_BY_CONTINENT,\n",
    "    AUTHOR_CONTINENT,\n",
    "    AUTHOR_CITY\n",
    ")"
   ]
  },
  {
   "cell_type": "code",
   "execution_count": 134,
   "metadata": {},
   "outputs": [],
   "source": [
    "team_fdr_df, team_fixt_df, team_ga_df, team_gf_df = get_fixt_dfs()\n",
    "\n",
    "events_df = pd.DataFrame(get_bootstrap_data()['events'])\n",
    "\n",
    "gw_min = min(events_df['id'])\n",
    "gw_max = max(events_df['id'])\n",
    "\n",
    "ct_gw = get_current_gw()"
   ]
  },
  {
   "cell_type": "code",
   "execution_count": 135,
   "metadata": {},
   "outputs": [],
   "source": [
    "fixt = team_fixt_df.reset_index()\n",
    "drf = team_fdr_df.reset_index()\n",
    "ga = team_ga_df.reset_index()\n",
    "gf = team_gf_df.reset_index()\n",
    "\n",
    "# Rename the first column to 'Team'\n",
    "fixt.rename(columns={0: 'Team'}, inplace=True)\n",
    "drf.rename(columns={0: 'Team'}, inplace=True)\n",
    "ga.rename(columns={0: 'Team'}, inplace=True)\n",
    "gf.rename(columns={0: 'Team'}, inplace=True)"
   ]
  },
  {
   "cell_type": "code",
   "execution_count": 136,
   "metadata": {},
   "outputs": [
    {
     "name": "stderr",
     "output_type": "stream",
     "text": [
      "2024-10-17 17:41:07.459 Thread 'MainThread': missing ScriptRunContext! This warning can be ignored when running in bare mode.\n",
      "2024-10-17 17:41:07.460 Thread 'MainThread': missing ScriptRunContext! This warning can be ignored when running in bare mode.\n",
      "2024-10-17 17:41:07.462 Thread 'MainThread': missing ScriptRunContext! This warning can be ignored when running in bare mode.\n",
      "2024-10-17 17:41:07.462 Thread 'MainThread': missing ScriptRunContext! This warning can be ignored when running in bare mode.\n",
      "2024-10-17 17:41:07.472 Thread 'MainThread': missing ScriptRunContext! This warning can be ignored when running in bare mode.\n",
      "2024-10-17 17:41:07.473 Thread 'MainThread': missing ScriptRunContext! This warning can be ignored when running in bare mode.\n"
     ]
    },
    {
     "data": {
      "text/plain": [
       "DeltaGenerator()"
      ]
     },
     "execution_count": 136,
     "metadata": {},
     "output_type": "execute_result"
    }
   ],
   "source": [
    "merged_df = pd.merge(fixt, drf, on=\"Team\", suffixes=('_Fixture', '_FDR'))\n",
    "\n",
    "# Convert to a format suitable for display\n",
    "merged_display_df = merged_df.copy()\n",
    "merged_display_df.columns = [\"Team\"] + [f\"{gw}_Fixture\" for gw in merged_display_df.columns[1:4]] + [f\"{gw}_FDR\" for gw in merged_display_df.columns[4:]]\n",
    "merged_display_df\n",
    "# Streamlit app\n",
    "st.title(\"FPL Fixture and Difficulty Rating Analysis\")\n",
    "\n",
    "# Display the merged DataFrame\n",
    "st.markdown(\"### Fixture Details with Fixture Difficulty Ratings\")\n",
    "st.dataframe(merged_display_df)"
   ]
  }
 ],
 "metadata": {
  "kernelspec": {
   "display_name": "Python 3",
   "language": "python",
   "name": "python3"
  },
  "language_info": {
   "codemirror_mode": {
    "name": "ipython",
    "version": 3
   },
   "file_extension": ".py",
   "mimetype": "text/x-python",
   "name": "python",
   "nbconvert_exporter": "python",
   "pygments_lexer": "ipython3",
   "version": "3.12.4"
  }
 },
 "nbformat": 4,
 "nbformat_minor": 2
}

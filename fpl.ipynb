{
 "cells": [
  {
   "cell_type": "code",
   "execution_count": 16,
   "metadata": {},
   "outputs": [],
   "source": [
    "import streamlit as st\n",
    "import pandas as pd\n",
    "import seaborn as sns\n",
    "import matplotlib.pyplot as plt\n",
    "import pytz\n",
    "import datetime as datetime\n",
    "import os\n",
    "import sys\n",
    "import numpy as np\n",
    "import plotly.express as px\n"
   ]
  },
  {
   "cell_type": "code",
   "execution_count": 17,
   "metadata": {},
   "outputs": [],
   "source": [
    "sys.path.append(os.path.abspath(os.path.join(os.getcwd(), 'FPL')))\n"
   ]
  },
  {
   "cell_type": "code",
   "execution_count": 18,
   "metadata": {},
   "outputs": [],
   "source": [
    "from FPL.fpl_api_collection import (\n",
    "    get_bootstrap_data,\n",
    "    get_current_gw,\n",
    "    get_fixt_dfs,\n",
    "    get_league_table,\n",
    "    get_fixture_dfs,\n",
    "    get_fixture_data\n",
    ")\n",
    "from FPL.fpl_utils import (\n",
    "    define_sidebar,\n",
    "    get_annot_size,\n",
    "    map_float_to_color,\n",
    "    get_text_color_from_hash,\n",
    "    get_rotation\n",
    ")\n",
    "from FPL.fpl_params import (\n",
    "    TIMEZONES_BY_CONTINENT,\n",
    "    AUTHOR_CONTINENT,\n",
    "    AUTHOR_CITY\n",
    ")"
   ]
  },
  {
   "cell_type": "code",
   "execution_count": 19,
   "metadata": {},
   "outputs": [],
   "source": [
    "team_fdr_df, team_fixt_df, team_ga_df, team_gf_df = get_fixt_dfs()\n",
    "\n",
    "events_df = pd.DataFrame(get_bootstrap_data()['events'])\n",
    "\n",
    "gw_min = min(events_df['id'])\n",
    "gw_max = max(events_df['id'])\n",
    "\n",
    "ct_gw = get_current_gw()"
   ]
  },
  {
   "cell_type": "code",
   "execution_count": 20,
   "metadata": {},
   "outputs": [],
   "source": [
    "fixt = team_fixt_df.reset_index()\n",
    "drf = team_fdr_df.reset_index()\n",
    "ga = team_ga_df.reset_index()\n",
    "gf = team_gf_df.reset_index()\n",
    "\n",
    "# Rename the first column to 'Team'\n",
    "fixt.rename(columns={0: 'Team'}, inplace=True)\n",
    "drf.rename(columns={0: 'Team'}, inplace=True)\n",
    "ga.rename(columns={0: 'Team'}, inplace=True)\n",
    "gf.rename(columns={0: 'Team'}, inplace=True)"
   ]
  },
  {
   "cell_type": "code",
   "execution_count": 21,
   "metadata": {},
   "outputs": [
    {
     "name": "stderr",
     "output_type": "stream",
     "text": [
      "2024-10-17 20:00:36.403 Thread 'MainThread': missing ScriptRunContext! This warning can be ignored when running in bare mode.\n",
      "2024-10-17 20:00:36.404 Thread 'MainThread': missing ScriptRunContext! This warning can be ignored when running in bare mode.\n",
      "2024-10-17 20:00:36.404 Thread 'MainThread': missing ScriptRunContext! This warning can be ignored when running in bare mode.\n",
      "2024-10-17 20:00:36.406 Thread 'MainThread': missing ScriptRunContext! This warning can be ignored when running in bare mode.\n",
      "2024-10-17 20:00:36.414 Thread 'MainThread': missing ScriptRunContext! This warning can be ignored when running in bare mode.\n",
      "2024-10-17 20:00:36.414 Thread 'MainThread': missing ScriptRunContext! This warning can be ignored when running in bare mode.\n"
     ]
    },
    {
     "data": {
      "text/plain": [
       "DeltaGenerator()"
      ]
     },
     "execution_count": 21,
     "metadata": {},
     "output_type": "execute_result"
    }
   ],
   "source": [
    "merged_df = pd.merge(fixt, drf, on=\"Team\", suffixes=('_Fixture', '_FDR'))\n",
    "\n",
    "# Convert to a format suitable for display\n",
    "merged_display_df = merged_df.copy()\n",
    "merged_display_df.columns = [\"Team\"] + [f\"{gw}_Fixture\" for gw in merged_display_df.columns[1:4]] + [f\"{gw}_FDR\" for gw in merged_display_df.columns[4:]]\n",
    "\n",
    "# Streamlit app\n",
    "st.title(\"FPL Fixture and Difficulty Rating Analysis\")\n",
    "\n",
    "# Display the merged DataFrame\n",
    "st.markdown(\"### Fixture Details with Fixture Difficulty Ratings\")\n",
    "st.dataframe(merged_display_df)"
   ]
  },
  {
   "cell_type": "code",
   "execution_count": 22,
   "metadata": {},
   "outputs": [],
   "source": [
    "saaaa=get_fixture_data()"
   ]
  },
  {
   "cell_type": "code",
   "execution_count": 23,
   "metadata": {},
   "outputs": [
    {
     "name": "stdout",
     "output_type": "stream",
     "text": [
      "<class 'pandas.core.frame.DataFrame'>\n",
      "RangeIndex: 380 entries, 0 to 379\n",
      "Data columns (total 16 columns):\n",
      " #   Column                  Non-Null Count  Dtype  \n",
      "---  ------                  --------------  -----  \n",
      " 0   code                    380 non-null    int64  \n",
      " 1   event                   380 non-null    int64  \n",
      " 2   finished                380 non-null    bool   \n",
      " 3   finished_provisional    380 non-null    bool   \n",
      " 4   id                      380 non-null    int64  \n",
      " 5   kickoff_time            380 non-null    object \n",
      " 6   minutes                 380 non-null    int64  \n",
      " 7   provisional_start_time  380 non-null    bool   \n",
      " 8   started                 380 non-null    bool   \n",
      " 9   team_a                  380 non-null    int64  \n",
      " 10  team_a_score            70 non-null     float64\n",
      " 11  team_h                  380 non-null    int64  \n",
      " 12  team_h_score            70 non-null     float64\n",
      " 13  team_h_difficulty       380 non-null    int64  \n",
      " 14  team_a_difficulty       380 non-null    int64  \n",
      " 15  pulse_id                380 non-null    int64  \n",
      "dtypes: bool(4), float64(2), int64(9), object(1)\n",
      "memory usage: 37.2+ KB\n"
     ]
    }
   ],
   "source": [
    "import json\n",
    "\n",
    "fixtures_df = pd.DataFrame(saaaa)\n",
    "\n",
    "fixtures_df.drop(columns='stats', inplace=True)\n",
    "\n",
    "\n",
    "fixtures_df.info()"
   ]
  },
  {
   "cell_type": "code",
   "execution_count": 24,
   "metadata": {},
   "outputs": [],
   "source": [
    "teams_df = pd.DataFrame(get_bootstrap_data()['teams'])"
   ]
  },
  {
   "cell_type": "code",
   "execution_count": 25,
   "metadata": {},
   "outputs": [
    {
     "data": {
      "text/plain": [
       "'https://resources.premierleague.com/premierleague/badges/70/t'"
      ]
     },
     "execution_count": 25,
     "metadata": {},
     "output_type": "execute_result"
    }
   ],
   "source": [
    "teams_df = pd.DataFrame(get_bootstrap_data()['teams'])\n",
    "teams_df\n",
    "\n",
    "teams_df['logo_url'] = \"https://resources.premierleague.com/premierleague/badges/70/t\" + teams_df['code'].astype(str) + \".png\"\n",
    "\n",
    "\n",
    "team_df"
   ]
  }
 ],
 "metadata": {
  "kernelspec": {
   "display_name": "Python 3",
   "language": "python",
   "name": "python3"
  },
  "language_info": {
   "codemirror_mode": {
    "name": "ipython",
    "version": 3
   },
   "file_extension": ".py",
   "mimetype": "text/x-python",
   "name": "python",
   "nbconvert_exporter": "python",
   "pygments_lexer": "ipython3",
   "version": "3.12.4"
  }
 },
 "nbformat": 4,
 "nbformat_minor": 2
}
